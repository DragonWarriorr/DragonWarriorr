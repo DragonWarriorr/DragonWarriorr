{
  "nbformat": 4,
  "nbformat_minor": 0,
  "metadata": {
    "colab": {
      "provenance": [],
      "authorship_tag": "ABX9TyPCHjB4EosSdERvYK5/LprT",
      "include_colab_link": true
    },
    "kernelspec": {
      "name": "python3",
      "display_name": "Python 3"
    },
    "language_info": {
      "name": "python"
    }
  },
  "cells": [
    {
      "cell_type": "markdown",
      "metadata": {
        "id": "view-in-github",
        "colab_type": "text"
      },
      "source": [
        "<a href=\"https://colab.research.google.com/github/DragonWarriorr/DragonWarriorr/blob/main/Loops_and_Logic.ipynb\" target=\"_parent\"><img src=\"https://colab.research.google.com/assets/colab-badge.svg\" alt=\"Open In Colab\"/></a>"
      ]
    },
    {
      "cell_type": "code",
      "execution_count": 3,
      "metadata": {
        "colab": {
          "base_uri": "https://localhost:8080/"
        },
        "id": "6OymFfVLEzWd",
        "outputId": "d6ce1d44-b8e7-415d-87e0-739359bcf9e9"
      },
      "outputs": [
        {
          "output_type": "stream",
          "name": "stdout",
          "text": [
            "Please Enter A Number:3\n",
            "Number is Less Than 5\n",
            "Number Is 1 or 3\n"
          ]
        }
      ],
      "source": [
        "#Branching with if\n",
        "num = int(input('Please Enter A Number:'))\n",
        "if num > 5:\n",
        "  print('Number Exceeds 5')\n",
        "elif num < 5:\n",
        "  print('Number is Less Than 5')\n",
        "else:\n",
        "  print('Number Is 5')\n",
        "if num > 7 and num < 9:\n",
        "  print('Number is 8')\n",
        "if num == 1 or num == 3:\n",
        "  print('Number Is 1 or 3')"
      ]
    },
    {
      "cell_type": "code",
      "source": [
        "#Looping while True\n",
        "i=1\n",
        "while i < 4:\n",
        "  print('\\nOuter Loop Iteration:', i)\n",
        "  i += 1\n",
        "  j = 1\n",
        "  while j < 4:\n",
        "            print('\\tInner Loop Iteration:', j)\n",
        "            j += 1\n"
      ],
      "metadata": {
        "colab": {
          "base_uri": "https://localhost:8080/"
        },
        "id": "ARESpc1QGG6R",
        "outputId": "ae0a66b6-5825-46bc-95f1-5b55a0bbc247"
      },
      "execution_count": 10,
      "outputs": [
        {
          "output_type": "stream",
          "name": "stdout",
          "text": [
            "\n",
            "Outer Loop Iteration: 1\n",
            "\tInner Loop Iteration: 1\n",
            "\tInner Loop Iteration: 2\n",
            "\tInner Loop Iteration: 3\n",
            "\n",
            "Outer Loop Iteration: 2\n",
            "\tInner Loop Iteration: 1\n",
            "\tInner Loop Iteration: 2\n",
            "\tInner Loop Iteration: 3\n",
            "\n",
            "Outer Loop Iteration: 3\n",
            "\tInner Loop Iteration: 1\n",
            "\tInner Loop Iteration: 2\n",
            "\tInner Loop Iteration: 3\n"
          ]
        }
      ]
    },
    {
      "cell_type": "code",
      "source": [
        "#Looping over items\n",
        "chars = ['A', 'B', 'C']\n",
        "fruit = ['Apple', 'Banana', 'Cherry']\n",
        "dict = {'name':'Mike', 'ref':'Python', 'sys':'Win'}\n",
        "print('\\nElements:\\t', end = '')\n",
        "for item in chars:\n",
        "  print(item, end = '')\n",
        "print('\\nEnumerated:\\t', end = '')\n",
        "for item in enumerate(chars):\n",
        "  print(item, end = '')\n",
        "print('\\nZipped:\\t', end = '')\n",
        "for item in zip(chars, fruit):\n",
        "  print(item, end = '')\n",
        "print('\\nPaired:')\n",
        "for key, value in dict.items():\n",
        "  print(key, '=', value)"
      ],
      "metadata": {
        "colab": {
          "base_uri": "https://localhost:8080/"
        },
        "id": "asXqkNhjHFpr",
        "outputId": "167361b8-d11a-4293-99ca-47dd9c6680fb"
      },
      "execution_count": 11,
      "outputs": [
        {
          "output_type": "stream",
          "name": "stdout",
          "text": [
            "\n",
            "Elements:\tABC\n",
            "Enumerated:\t(0, 'A')(1, 'B')(2, 'C')\n",
            "Zipped:\t('A', 'Apple')('B', 'Banana')('C', 'Cherry')\n",
            "Paired:\n",
            "name = Mike\n",
            "ref = Python\n",
            "sys = Win\n"
          ]
        }
      ]
    },
    {
      "cell_type": "code",
      "source": [
        "#Breaking out of loops\n",
        "for i in range(1,4):\n",
        "   for j in range(1,4):\n",
        "    print('Running i =', i, 'j=', j)\n",
        "    break\n",
        "    continue\n",
        "\n",
        "if i == 2 and j == 1:\n",
        "    print('Breaks inner loop at i=2 j=1')\n",
        "\n",
        "if i ==1 and j == 1:\n",
        "  print('Continuous inner loop at i=1 j=1')\n",
        "\n",
        "\n",
        "\n",
        ""
      ],
      "metadata": {
        "colab": {
          "base_uri": "https://localhost:8080/"
        },
        "id": "BNwC8KrwJLaF",
        "outputId": "2ac159e6-3292-474b-8ba4-93eda4eb80c9"
      },
      "execution_count": 33,
      "outputs": [
        {
          "output_type": "stream",
          "name": "stdout",
          "text": [
            "Running i = 1 j= 1\n",
            "Running i = 2 j= 1\n",
            "Running i = 3 j= 1\n"
          ]
        }
      ]
    }
  ]
}