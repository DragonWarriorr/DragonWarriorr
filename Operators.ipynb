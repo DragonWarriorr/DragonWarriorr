{
  "nbformat": 4,
  "nbformat_minor": 0,
  "metadata": {
    "colab": {
      "provenance": [],
      "authorship_tag": "ABX9TyMItj5KN2iZD3q7tyYljsgM",
      "include_colab_link": true
    },
    "kernelspec": {
      "name": "python3",
      "display_name": "Python 3"
    },
    "language_info": {
      "name": "python"
    }
  },
  "cells": [
    {
      "cell_type": "markdown",
      "metadata": {
        "id": "view-in-github",
        "colab_type": "text"
      },
      "source": [
        "<a href=\"https://colab.research.google.com/github/DragonWarriorr/DragonWarriorr/blob/main/Operators.ipynb\" target=\"_parent\"><img src=\"https://colab.research.google.com/assets/colab-badge.svg\" alt=\"Open In Colab\"/></a>"
      ]
    },
    {
      "cell_type": "code",
      "execution_count": 2,
      "metadata": {
        "id": "lJmPoDhw7kb6",
        "colab": {
          "base_uri": "https://localhost:8080/"
        },
        "outputId": "6df9d3b0-aad3-470e-fd6c-59cdb8852201"
      },
      "outputs": [
        {
          "output_type": "stream",
          "name": "stdout",
          "text": [
            "50\n",
            "70\n"
          ]
        }
      ],
      "source": [
        "#Arithmetic operators\n",
        "health = 50\n",
        "new_health = health + 20\n",
        "#new_health is a new variable, which is why the value of health stayed 50, the 20 was put in a different variable.\n",
        "print(health)\n",
        "health = health + 20\n",
        "#this produces 70 because we are adding 20 to the initial variable.\n",
        "print(health)"
      ]
    },
    {
      "cell_type": "code",
      "source": [
        "#Exponentiation operators\n",
        "xPos = 5\n",
        "print(xPos % 2)\n",
        "print(xPos // 2)\n",
        "print(xPos ** 2)\n",
        "print(xPos)"
      ],
      "metadata": {
        "colab": {
          "base_uri": "https://localhost:8080/"
        },
        "id": "PeeB7UMsVrcw",
        "outputId": "0ae34535-c975-47a2-dc9f-1e1509fbc2c3"
      },
      "execution_count": 5,
      "outputs": [
        {
          "output_type": "stream",
          "name": "stdout",
          "text": [
            "1\n",
            "2\n",
            "25\n",
            "5\n"
          ]
        }
      ]
    },
    {
      "cell_type": "code",
      "source": [
        "#Adding strings together\n",
        "first_name = \"Dragon\"\n",
        "last_name = \"Warrior\"\n",
        "print(first_name + \" \" + last_name)\n"
      ],
      "metadata": {
        "colab": {
          "base_uri": "https://localhost:8080/"
        },
        "id": "N2OPRgCEWVIA",
        "outputId": "174ccf62-3f7c-4c4b-cf29-5db886e3ba60"
      },
      "execution_count": 7,
      "outputs": [
        {
          "output_type": "stream",
          "name": "stdout",
          "text": [
            "Dragon Warrior\n"
          ]
        }
      ]
    },
    {
      "cell_type": "code",
      "source": [
        "#Arithmetic operators with equals signs\n",
        "health = 50\n",
        "health += 20\n",
        "health -= 50\n",
        "print(health)\n",
        "\n",
        "#Can only add strings\n",
        "name = \"Dragon\"\n",
        "name += \" Warrior\"\n",
        "print(name)"
      ],
      "metadata": {
        "colab": {
          "base_uri": "https://localhost:8080/"
        },
        "id": "AfTSbbudW1Pg",
        "outputId": "eee1290f-4f13-4322-83b6-b71b28277af0"
      },
      "execution_count": 14,
      "outputs": [
        {
          "output_type": "stream",
          "name": "stdout",
          "text": [
            "20\n",
            "Dragon Warrior\n"
          ]
        }
      ]
    },
    {
      "cell_type": "code",
      "source": [
        "#Conditional Operators\n",
        "# > , >= , < , <= , == , != All of these operators will always give a boolean (true/false) result, based on the comparison.\n",
        "# == tests equality, if 2 things are equal, they will be true.\n",
        "# != if 2 things are unequal, they will be true.\n",
        "result = 5 > 2\n",
        "print( result )\n",
        "print(type(result))\n",
        "\n",
        "print( 5 == 2 )\n",
        "print( 5 != health ) # True because 5 is not equal to 20.\n",
        "print( 5.0 == 5.005)"
      ],
      "metadata": {
        "colab": {
          "base_uri": "https://localhost:8080/"
        },
        "id": "1w2IUOl3X6ad",
        "outputId": "a0c6a1a5-1bf2-4add-9188-e3015c3ecc20"
      },
      "execution_count": 20,
      "outputs": [
        {
          "output_type": "stream",
          "name": "stdout",
          "text": [
            "True\n",
            "<class 'bool'>\n",
            "False\n",
            "True\n",
            "False\n"
          ]
        }
      ]
    },
    {
      "cell_type": "code",
      "source": [
        "#Conditional operators continued\n",
        "print(True == False)\n",
        "print(first_name != last_name)\n",
        "print(first_name == last_name)\n",
        "#Strings are case-sensitive\n",
        "a = \"a\"\n",
        "z = \"z\"\n",
        "print(a < z)\n",
        "print( 5 >= True) #perceives that True=1 and False=0. However, True can be anything that is not 0."
      ],
      "metadata": {
        "colab": {
          "base_uri": "https://localhost:8080/"
        },
        "id": "t8RwfOBdZcEG",
        "outputId": "1d57bb37-d82e-4d78-8253-55382bbf3eb9"
      },
      "execution_count": 31,
      "outputs": [
        {
          "output_type": "stream",
          "name": "stdout",
          "text": [
            "False\n",
            "True\n",
            "False\n",
            "True\n",
            "True\n"
          ]
        }
      ]
    },
    {
      "cell_type": "code",
      "source": [
        "#Logical operators\n",
        "#AND, OR, NOT\n",
        "\n",
        "#NOT is a way to reverse a boolean value.\n",
        "is_game_over = False\n",
        "is_game_over = not is_game_over\n",
        "print(is_game_over)\n",
        "\n",
        "#AND\n",
        "health = 0\n",
        "lives = 0\n",
        "print(health <= 0 and lives <= 0) # This will return true if both statemnts are true. If 1/ both of them are false, it will return false.\n",
        "\n",
        "#OR\n",
        "health = 0\n",
        "lives = 0\n",
        "print(health <= 0 or lives <= 0) # THis will return true if 1 of the statemebts is true.\n"
      ],
      "metadata": {
        "colab": {
          "base_uri": "https://localhost:8080/"
        },
        "id": "iphuKbDMeofK",
        "outputId": "894a6276-e12a-454c-f097-d00f3b656390"
      },
      "execution_count": 35,
      "outputs": [
        {
          "output_type": "stream",
          "name": "stdout",
          "text": [
            "True\n",
            "True\n",
            "True\n"
          ]
        }
      ]
    }
  ]
}