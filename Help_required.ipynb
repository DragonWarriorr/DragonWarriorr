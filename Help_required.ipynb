{
  "nbformat": 4,
  "nbformat_minor": 0,
  "metadata": {
    "colab": {
      "provenance": [],
      "authorship_tag": "ABX9TyNtm2Lh10gSPU1X1t3hxUGe",
      "include_colab_link": true
    },
    "kernelspec": {
      "name": "python3",
      "display_name": "Python 3"
    },
    "language_info": {
      "name": "python"
    }
  },
  "cells": [
    {
      "cell_type": "markdown",
      "metadata": {
        "id": "view-in-github",
        "colab_type": "text"
      },
      "source": [
        "<a href=\"https://colab.research.google.com/github/DragonWarriorr/DragonWarriorr/blob/main/Help_required.ipynb\" target=\"_parent\"><img src=\"https://colab.research.google.com/assets/colab-badge.svg\" alt=\"Open In Colab\"/></a>"
      ]
    },
    {
      "cell_type": "code",
      "execution_count": 1,
      "metadata": {
        "colab": {
          "base_uri": "https://localhost:8080/"
        },
        "id": "a7h51XrNnyvD",
        "outputId": "c1c114de-3694-4e20-8808-b2dee305784d"
      },
      "outputs": [
        {
          "output_type": "stream",
          "name": "stdout",
          "text": [
            "Enter An Integer:2\n",
            "2 Squared Is: None\n"
          ]
        }
      ],
      "source": [
        "#Returning values\n",
        "num= input ('Enter An Integer:')\n",
        "def square(num):\n",
        "  if not num.isdigit():\n",
        "    return'Invalid Entry'\n",
        "    num = int(num)\n",
        "    return num * num\n",
        "    square (num) == num*num\n",
        "print( num, 'Squared Is:', square( num ))"
      ]
    }
  ]
}