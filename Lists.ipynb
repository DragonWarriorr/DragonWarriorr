{
  "nbformat": 4,
  "nbformat_minor": 0,
  "metadata": {
    "colab": {
      "provenance": [],
      "authorship_tag": "ABX9TyOHnDh2iDMgtHIUfVj/VMBx",
      "include_colab_link": true
    },
    "kernelspec": {
      "name": "python3",
      "display_name": "Python 3"
    },
    "language_info": {
      "name": "python"
    }
  },
  "cells": [
    {
      "cell_type": "markdown",
      "metadata": {
        "id": "view-in-github",
        "colab_type": "text"
      },
      "source": [
        "<a href=\"https://colab.research.google.com/github/DragonWarriorr/DragonWarriorr/blob/main/Lists.ipynb\" target=\"_parent\"><img src=\"https://colab.research.google.com/assets/colab-badge.svg\" alt=\"Open In Colab\"/></a>"
      ]
    },
    {
      "cell_type": "code",
      "execution_count": null,
      "metadata": {
        "colab": {
          "base_uri": "https://localhost:8080/"
        },
        "id": "xQ-dsyIYEz6z",
        "outputId": "3784436f-4e17-4ba6-ce5e-17de12c73cd5"
      },
      "outputs": [
        {
          "output_type": "stream",
          "name": "stdout",
          "text": [
            "First Month : January\n",
            "Second Month : February\n",
            "Third Month : March\n",
            "\n",
            "Top Left 0,0 : 1\n",
            "Bottom Right 1,2 : 6\n",
            "\n",
            "Second Month First Letter : F\n"
          ]
        }
      ],
      "source": [
        "#Writing lists\n",
        "quarter = [ 'January', 'February', 'March' ]\n",
        "print( 'First Month :', quarter[0] )\n",
        "print( 'Second Month :', quarter[1] )\n",
        "print( 'Third Month :', quarter[2] )\n",
        "coords = [[1, 2 , 3], [4, 5, 6]]\n",
        "print( '\\nTop Left 0,0 :', coords[0][0] )\n",
        "print( 'Bottom Right 1,2 :', coords[1][2])\n",
        "print( '\\nSecond Month First Letter :', quarter[1][0] )"
      ]
    },
    {
      "cell_type": "code",
      "source": [
        "#Manipulating lists\n",
        "basket = [ 'Apple', 'Bun', 'Cola' ]\n",
        "crate = [ 'Egg', 'Fig', 'Grape' ]\n",
        "print( 'Basket List:', basket )\n",
        "print( 'Basket Elements:', len(basket) )\n",
        "basket.append('Damson')\n",
        "print('Appended:', basket )\n",
        "print('Last Item Removed:', basket.pop() )\n",
        "print('Basket List:', basket )\n",
        "basket.extend( crate )\n",
        "print( 'Extended:', basket )\n",
        "del basket[1]\n",
        "print('Item Removed:', basket )\n",
        "del basket[1:3]\n",
        "print( 'Slice Removed:', basket )"
      ],
      "metadata": {
        "colab": {
          "base_uri": "https://localhost:8080/"
        },
        "id": "6M3pgQHiGPyv",
        "outputId": "3ffc2a49-e45a-41c0-c1a3-e02b822cfa31"
      },
      "execution_count": null,
      "outputs": [
        {
          "output_type": "stream",
          "name": "stdout",
          "text": [
            "Basket List: ['Apple', 'Bun', 'Cola']\n",
            "Basket Elements: 3\n",
            "Appended: ['Apple', 'Bun', 'Cola', 'Damson']\n",
            "Last Item Removed: Damson\n",
            "Basket List: ['Apple', 'Bun', 'Cola']\n",
            "Extended: ['Apple', 'Bun', 'Cola', 'Egg', 'Fig', 'Grape']\n",
            "Item Removed: ['Apple', 'Cola', 'Egg', 'Fig', 'Grape']\n",
            "Slice Removed: ['Apple', 'Fig', 'Grape']\n"
          ]
        }
      ]
    },
    {
      "cell_type": "code",
      "source": [
        "#Restricting lists\n",
        "zoo = ( 'Kangaroo', 'Leopard', 'Moose' )\n",
        "print( 'Tuple:', zoo, '\\tLength', len( zoo ) )\n",
        "print( type(zoo ) )\n",
        "bag = {'Red', 'Green', 'Blue' }\n",
        "bag.add( 'Yellow' )\n",
        "print('\\nSet:', bag, '\\tLength', len( bag ) )\n",
        "print('\\nIs Green In bag Set?:', 'Green' in bag )\n",
        "print('Is Orange In bag Set?:', 'Orange' in bag )\n",
        "box = { 'Red', 'Purple', 'Yellow' }\n",
        "print('\\nSet:', box, '\\t\\tLength', len( box ) )\n",
        "print('Common To Both Sets:', bag.intersection( box ) )"
      ],
      "metadata": {
        "colab": {
          "base_uri": "https://localhost:8080/"
        },
        "id": "yXNezHQRIJBt",
        "outputId": "391e7adb-db4d-422c-984b-e1cec0d76e50"
      },
      "execution_count": null,
      "outputs": [
        {
          "output_type": "stream",
          "name": "stdout",
          "text": [
            "Tuple: ('Kangaroo', 'Leopard', 'Moose') \tLength 3\n",
            "<class 'tuple'>\n",
            "\n",
            "Set: {'Red', 'Yellow', 'Blue', 'Green'} \tLength 4\n",
            "\n",
            "Is Green In bag Set?: True\n",
            "Is Orange In bag Set?: False\n",
            "\n",
            "Set: {'Red', 'Purple', 'Yellow'} \t\tLength 3\n",
            "Common To Both Sets: {'Red', 'Yellow'}\n"
          ]
        }
      ]
    },
    {
      "cell_type": "code",
      "source": [
        "#Associating list elements\n",
        "dict = {'name':'Bob', 'ref':'Python', 'sys':'Win'}\n",
        "print('Dictionary:', dict)\n",
        "print('\\nReference:', dict['ref'])\n",
        "print('\\nKeys:', dict.keys())\n",
        "del dict['name']\n",
        "dict ['user']='Tom'\n",
        "print('\\nDictionary:', dict)\n",
        "print('\\nIs There A name Key?:', 'name' in dict)"
      ],
      "metadata": {
        "id": "qPmbQ7_tVFjS",
        "colab": {
          "base_uri": "https://localhost:8080/"
        },
        "outputId": "8c88d1a8-f980-4cc9-9143-41045669a60c"
      },
      "execution_count": 8,
      "outputs": [
        {
          "output_type": "stream",
          "name": "stdout",
          "text": [
            "Dictionary: {'name': 'Bob', 'ref': 'Python', 'sys': 'Win'}\n",
            "\n",
            "Reference: Python\n",
            "\n",
            "Keys: dict_keys(['name', 'ref', 'sys'])\n",
            "\n",
            "Dictionary: {'ref': 'Python', 'sys': 'Win', 'user': 'Tom'}\n",
            "\n",
            "Is There A name Key?: False\n"
          ]
        }
      ]
    }
  ]
}