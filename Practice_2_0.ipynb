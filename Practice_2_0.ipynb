{
  "nbformat": 4,
  "nbformat_minor": 0,
  "metadata": {
    "colab": {
      "provenance": [],
      "authorship_tag": "ABX9TyORpXvKtvAeqvyCgRBhh6nL",
      "include_colab_link": true
    },
    "kernelspec": {
      "name": "python3",
      "display_name": "Python 3"
    },
    "language_info": {
      "name": "python"
    }
  },
  "cells": [
    {
      "cell_type": "markdown",
      "metadata": {
        "id": "view-in-github",
        "colab_type": "text"
      },
      "source": [
        "<a href=\"https://colab.research.google.com/github/DragonWarriorr/DragonWarriorr/blob/main/Practice_2_0.ipynb\" target=\"_parent\"><img src=\"https://colab.research.google.com/assets/colab-badge.svg\" alt=\"Open In Colab\"/></a>"
      ]
    },
    {
      "cell_type": "code",
      "execution_count": 5,
      "metadata": {
        "id": "sjAr2faT-JuP",
        "colab": {
          "base_uri": "https://localhost:8080/"
        },
        "outputId": "dae8d8b9-f991-4bf7-92c2-649d2ff2e6e4"
      },
      "outputs": [
        {
          "output_type": "stream",
          "name": "stdout",
          "text": [
            "8\n",
            "3.142\n",
            "Light travels in straight lines.\n",
            "True\n"
          ]
        }
      ],
      "source": [
        "var=8\n",
        "print (var)\n",
        "\n",
        "var=3.142\n",
        "print(var)\n",
        "\n",
        "var= 'Light travels in straight lines.'\n",
        "print (var)\n",
        "\n",
        "var=True\n",
        "print(var)"
      ]
    },
    {
      "cell_type": "code",
      "source": [
        "user =input('I am Python. What is your name?:')\n",
        "print('Welcome', user)\n",
        "lang= input('Favourite subject?:')\n",
        "print(lang, 'Is', 'Fun', sep='*', end='!\\n')"
      ],
      "metadata": {
        "colab": {
          "base_uri": "https://localhost:8080/"
        },
        "id": "ZgogLx6Y_-sI",
        "outputId": "1eaae0c7-ea43-4c88-c538-32e59eb220ca"
      },
      "execution_count": 10,
      "outputs": [
        {
          "output_type": "stream",
          "name": "stdout",
          "text": [
            "I am Python. What is your name?:Sim\n",
            "Welcome Sim\n",
            "Favourite subject?:History\n",
            "History*Is*Fun!\n"
          ]
        }
      ]
    }
  ]
}