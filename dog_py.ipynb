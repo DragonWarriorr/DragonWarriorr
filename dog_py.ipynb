{
  "nbformat": 4,
  "nbformat_minor": 0,
  "metadata": {
    "colab": {
      "provenance": [],
      "authorship_tag": "ABX9TyNhvlE1wtxLT624x1jHSrzf",
      "include_colab_link": true
    },
    "kernelspec": {
      "name": "python3",
      "display_name": "Python 3"
    },
    "language_info": {
      "name": "python"
    }
  },
  "cells": [
    {
      "cell_type": "markdown",
      "metadata": {
        "id": "view-in-github",
        "colab_type": "text"
      },
      "source": [
        "<a href=\"https://colab.research.google.com/github/DragonWarriorr/DragonWarriorr/blob/main/dog_py.ipynb\" target=\"_parent\"><img src=\"https://colab.research.google.com/assets/colab-badge.svg\" alt=\"Open In Colab\"/></a>"
      ]
    },
    {
      "cell_type": "code",
      "execution_count": 12,
      "metadata": {
        "id": "5OQwTNCM4iq-"
      },
      "outputs": [],
      "source": [
        "#Owning function names\n",
        "def bark(pet = 'A Dog'):\n",
        "  print(pet, 'Says WOOF!')\n",
        "def lick(pet ='A Dog'):\n",
        "  print(pet, 'Drinks Water')\n",
        "def nap(pet ='A Dog'):\n",
        "  print(pet, 'Sleeps In The Sun')\n"
      ]
    },
    {
      "cell_type": "code",
      "source": [
        "#Owning function names\n",
        "def bark(pet = 'A Dog'):\n",
        "  print(pet, 'Says WOOF!')\n",
        "def lick(pet ='A Dog'):\n",
        "  print(pet, 'Drinks Water')\n",
        "def nap(pet ='A Dog'):\n",
        "  print(pet, 'Sleeps In The Sun')\n",
        "from ast import Module\n",
        "#Owning function names\n",
        "def pet():\n",
        "  def dog():\n",
        "    bark()\n",
        "    lick()\n",
        "    nap()\n",
        "    pet = input('Enter A Pet Name:')\n",
        "    bark(pet)\n",
        "    lick(pet)\n",
        "    nap(pet)"
      ],
      "metadata": {
        "id": "yTkG-UO88Z2B"
      },
      "execution_count": 28,
      "outputs": []
    }
  ]
}