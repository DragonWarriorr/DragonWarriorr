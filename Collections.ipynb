{
  "nbformat": 4,
  "nbformat_minor": 0,
  "metadata": {
    "colab": {
      "provenance": [],
      "authorship_tag": "ABX9TyPhSFF7LzboZmORaRTO1heO",
      "include_colab_link": true
    },
    "kernelspec": {
      "name": "python3",
      "display_name": "Python 3"
    },
    "language_info": {
      "name": "python"
    }
  },
  "cells": [
    {
      "cell_type": "markdown",
      "metadata": {
        "id": "view-in-github",
        "colab_type": "text"
      },
      "source": [
        "<a href=\"https://colab.research.google.com/github/DragonWarriorr/DragonWarriorr/blob/main/Collections.ipynb\" target=\"_parent\"><img src=\"https://colab.research.google.com/assets/colab-badge.svg\" alt=\"Open In Colab\"/></a>"
      ]
    },
    {
      "cell_type": "code",
      "execution_count": null,
      "metadata": {
        "id": "hACB2mmegXoc"
      },
      "outputs": [],
      "source": [
        "#What are Collections?\n",
        "# Collections allow you to store multiple values in 1 variable.\n",
        "# Items in a collection are elements, they can be variables/literal values.\n",
        "# Elements can be collections themselves.\n",
        "#Regularly come with additional functionality.\n",
        "\n",
        "#Lists\n",
        "#Stores 0 or more items at specific indexes.\n",
        "# The position of these items are vital, especially, if we want to keep track of a specific value.\n",
        "#Lists could be empty.\n",
        "#In lists, you can access elements based on their index.\n",
        "#You cannot access items at indexes, which do not exist. For example, in an index with 5 elements, you cannot try to access the 10th element.\n",
        "#Can contain many types of variables in Python. - So they are highly flexible.\n",
        "#Lists are mutable, so you can change/alter lists.\n",
        "\n",
        "#Tuples\n",
        "#Similar to lists since you can store multiple items in them and access them in their position o the indedx.\n",
        "#They are immutable, so you canno change them and elements within them. So, they are primarily used as temporary storage devices for items.\n",
        "\n",
        "#Dictionaries\n",
        "#Store key value pairs at each index.\n",
        "#Each index has 1 value, usually. However, with dictionaries each index has 1 value and the key associated with it, so there's 2 values.\n",
        "#Each element is a tuple of a key-value pair.\n",
        "#To access a value in dictionaries, you need to search based on the key, rathe than the index.\n",
        "#Can retrieve a list of keys/a list of values.\n",
        "#Mutable, you can add/remove/modify key-value pairso reassign the entire dictioary.\n",
        "\n",
        "#Ranges\n",
        "#Represent lists of consecutive whole numbers, however, don't have the functionality of lists.\n",
        "#Specify start and end values.\n",
        "#Could also specify a step value. If there is numbers 0-10, you could specify a step value of 2 and that would skip all of the odd numbers between 0 and 10.\n",
        "#To count backwards, you can wrap it in the reversed() function. So, you can habe it for 5-1 rather than 1-5."
      ]
    },
    {
      "cell_type": "code",
      "source": [
        "#Lists\n",
        "#Accessing individual elements in a list.\n",
        "inventory = ['Sword', 'Bread', 'Boots', 'Spear', 'Shield']\n",
        "inventory[0] = 'Knife'\n",
        "inventory[1] = 'Chocolate Cake'\n",
        "print(inventory)\n"
      ],
      "metadata": {
        "colab": {
          "base_uri": "https://localhost:8080/"
        },
        "id": "hcV1Oql_kiwT",
        "outputId": "c2683398-bba0-422e-f0f2-cf5cf16ec280"
      },
      "execution_count": 4,
      "outputs": [
        {
          "output_type": "stream",
          "name": "stdout",
          "text": [
            "['Knife', 'Chocolate Cake', 'Boots', 'Spear', 'Shield']\n"
          ]
        }
      ]
    },
    {
      "cell_type": "code",
      "source": [
        "#Lists\n",
        "['Sword', 'Bread', 'Boots', 'Spear', 'Shield']\n",
        "print(len(inventory))\n",
        "#is alphabetical\n",
        "print(max(inventory))\n",
        "print(min(inventory))\n",
        "\n",
        "#Adding to a list.\n",
        "inventory.append('Canon')\n",
        "print(inventory)\n",
        "\n",
        "#Inserting lets us add something to a specific index.\n",
        "inventory.insert(0, 'Gun')\n",
        "print(inventory)\n",
        "\n",
        "#Removing the last item from a list.\n",
        "inventory.pop()\n",
        "print(inventory)\n",
        "\n",
        "#Removing a specific element from the list.\n",
        "inventory.remove('Gun')\n",
        "print(inventory)"
      ],
      "metadata": {
        "colab": {
          "base_uri": "https://localhost:8080/"
        },
        "id": "RRV5yNBXl3vr",
        "outputId": "9ef7c1cb-5c2f-4570-d8a1-21308d6d8621"
      },
      "execution_count": 15,
      "outputs": [
        {
          "output_type": "stream",
          "name": "stdout",
          "text": [
            "15\n",
            "Spear\n",
            "Boots\n",
            "['Gun', 'Gun', 'Gun', 'Gun', 'Gun', 'Gun', 'Knife', 'Gun', 'Chocolate Cake', 'Boots', 'Spear', 'Shield', 'Canon', 'Canon', 'Canon', 'Canon']\n",
            "['Gun', 'Gun', 'Gun', 'Gun', 'Gun', 'Gun', 'Gun', 'Knife', 'Gun', 'Chocolate Cake', 'Boots', 'Spear', 'Shield', 'Canon', 'Canon', 'Canon', 'Canon']\n",
            "['Gun', 'Gun', 'Gun', 'Gun', 'Gun', 'Gun', 'Gun', 'Knife', 'Gun', 'Chocolate Cake', 'Boots', 'Spear', 'Shield', 'Canon', 'Canon', 'Canon']\n",
            "['Gun', 'Gun', 'Gun', 'Gun', 'Gun', 'Gun', 'Knife', 'Gun', 'Chocolate Cake', 'Boots', 'Spear', 'Shield', 'Canon', 'Canon', 'Canon']\n"
          ]
        }
      ]
    }
  ]
}