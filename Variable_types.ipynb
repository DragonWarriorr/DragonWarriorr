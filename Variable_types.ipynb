{
  "nbformat": 4,
  "nbformat_minor": 0,
  "metadata": {
    "colab": {
      "provenance": [],
      "authorship_tag": "ABX9TyPXu0waU+INgnhGJp0cZMHM",
      "include_colab_link": true
    },
    "kernelspec": {
      "name": "python3",
      "display_name": "Python 3"
    },
    "language_info": {
      "name": "python"
    }
  },
  "cells": [
    {
      "cell_type": "markdown",
      "metadata": {
        "id": "view-in-github",
        "colab_type": "text"
      },
      "source": [
        "<a href=\"https://colab.research.google.com/github/DragonWarriorr/DragonWarriorr/blob/main/Variable_types.ipynb\" target=\"_parent\"><img src=\"https://colab.research.google.com/assets/colab-badge.svg\" alt=\"Open In Colab\"/></a>"
      ]
    },
    {
      "cell_type": "code",
      "execution_count": 3,
      "metadata": {
        "colab": {
          "base_uri": "https://localhost:8080/"
        },
        "id": "Lp7rP9_Ty3lJ",
        "outputId": "395f38a7-6450-4d1a-bcf9-5ac57be7afc1"
      },
      "outputs": [
        {
          "output_type": "stream",
          "name": "stdout",
          "text": [
            "False\n",
            "True\n",
            "False\n"
          ]
        }
      ],
      "source": [
        "#Boolean variable\n",
        "is_game_over = False\n",
        "print(is_game_over)\n",
        "is_game_over = True\n",
        "print(is_game_over)\n",
        "is_game_over = 5 > 6\n",
        "print(is_game_over)"
      ]
    },
    {
      "cell_type": "code",
      "source": [
        "#Numerical data: Integers and Floats\n",
        "#Integers = Whole Numbers\n",
        "#Floats = Decimal NUmbers\n",
        "num_lives = 5\n",
        "print(num_lives)\n",
        "percent_health = 0.5\n",
        "print(percent_health)"
      ],
      "metadata": {
        "colab": {
          "base_uri": "https://localhost:8080/"
        },
        "id": "Zkg375Pf1anF",
        "outputId": "d4519f4e-fdc7-47c6-a890-cc267061acdd"
      },
      "execution_count": 5,
      "outputs": [
        {
          "output_type": "stream",
          "name": "stdout",
          "text": [
            "5\n",
            "0.5\n"
          ]
        }
      ]
    },
    {
      "cell_type": "code",
      "source": [
        "#Strings\n",
        "player_name = \"Simi\"\n",
        "print(player_name)\n",
        "player_name = 'Dragon'\n",
        "print(player_name)"
      ],
      "metadata": {
        "colab": {
          "base_uri": "https://localhost:8080/"
        },
        "id": "yGUpdMGj2EKL",
        "outputId": "e650d9cb-0322-4e51-f321-7dfa18be263c"
      },
      "execution_count": 6,
      "outputs": [
        {
          "output_type": "stream",
          "name": "stdout",
          "text": [
            "Simi\n",
            "Dragon\n"
          ]
        }
      ]
    },
    {
      "cell_type": "code",
      "source": [
        "#Determining the type of the variable\n",
        "print(type(is_game_over))\n",
        "print(type(num_lives))\n",
        "print(type(percent_health))\n",
        "print(type(player_name))\n",
        "\n",
        "num_lives = \"5\"\n",
        "print(type(num_lives))\n",
        "\n",
        "player_name = num_lives\n",
        "print(type(num_lives))"
      ],
      "metadata": {
        "colab": {
          "base_uri": "https://localhost:8080/"
        },
        "id": "TxwQ46pb2soM",
        "outputId": "2591fe26-ee94-4835-fea7-ab92524a91af"
      },
      "execution_count": 9,
      "outputs": [
        {
          "output_type": "stream",
          "name": "stdout",
          "text": [
            "<class 'bool'>\n",
            "<class 'str'>\n",
            "<class 'float'>\n",
            "<class 'str'>\n",
            "<class 'str'>\n",
            "<class 'str'>\n"
          ]
        }
      ]
    }
  ]
}