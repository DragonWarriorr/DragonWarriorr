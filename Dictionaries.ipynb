{
  "nbformat": 4,
  "nbformat_minor": 0,
  "metadata": {
    "colab": {
      "provenance": [],
      "authorship_tag": "ABX9TyOrRLlx/ExCkutZu9haGwln",
      "include_colab_link": true
    },
    "kernelspec": {
      "name": "python3",
      "display_name": "Python 3"
    },
    "language_info": {
      "name": "python"
    }
  },
  "cells": [
    {
      "cell_type": "markdown",
      "metadata": {
        "id": "view-in-github",
        "colab_type": "text"
      },
      "source": [
        "<a href=\"https://colab.research.google.com/github/DragonWarriorr/DragonWarriorr/blob/main/Dictionaries.ipynb\" target=\"_parent\"><img src=\"https://colab.research.google.com/assets/colab-badge.svg\" alt=\"Open In Colab\"/></a>"
      ]
    },
    {
      "cell_type": "code",
      "execution_count": 5,
      "metadata": {
        "colab": {
          "base_uri": "https://localhost:8080/"
        },
        "id": "lATN3xxvm2_h",
        "outputId": "439d87f5-0ace-46b5-99d4-e9e9ded393fa"
      },
      "outputs": [
        {
          "output_type": "stream",
          "name": "stdout",
          "text": [
            "{'Knife': 1, 'Health Kit': 3, 'Wood': 5}\n",
            "1\n",
            "3\n",
            "5\n",
            "{'Knife': 2, 'Health Kit': 3, 'Wood': 5}\n",
            "{'Knife': 2, 'Health Kit': 3, 'Wood': 5, 'Gold': 50}\n"
          ]
        }
      ],
      "source": [
        "inventory = {'Knife':1, 'Health Kit': 3, 'Wood': 5}\n",
        "print(inventory)\n",
        "print(inventory ['Knife'])\n",
        "print(inventory ['Health Kit'])\n",
        "print(inventory ['Wood'])\n",
        "inventory['Knife'] = 2\n",
        "print(inventory)\n",
        "inventory['Gold'] = 50\n",
        "print(inventory)"
      ]
    },
    {
      "cell_type": "code",
      "source": [
        "inventory = {'Knife':1, 'Health Kit': 3, 'Wood': 5}\n",
        "#print(inventory['Gold'])\n",
        "print(inventory.get('Gold'))\n",
        "print(inventory.keys())\n",
        "print(inventory.values())\n",
        "\n",
        "inventory.pop('Knife')\n",
        "print(inventory)\n",
        "#inventory.clear()\n",
        "\n",
        "inventory['Apple'] = 10\n",
        "print(len(inventory))\n",
        "print(min(inventory))\n",
        "print(max(inventory))"
      ],
      "metadata": {
        "colab": {
          "base_uri": "https://localhost:8080/"
        },
        "id": "pXW5Wgz8oo5M",
        "outputId": "e8965ffc-70f1-4fef-ba1b-4cf7548a8ba9"
      },
      "execution_count": 12,
      "outputs": [
        {
          "output_type": "stream",
          "name": "stdout",
          "text": [
            "None\n",
            "dict_keys(['Knife', 'Health Kit', 'Wood'])\n",
            "dict_values([1, 3, 5])\n",
            "{'Health Kit': 3, 'Wood': 5}\n",
            "3\n",
            "Apple\n",
            "Wood\n"
          ]
        }
      ]
    }
  ]
}